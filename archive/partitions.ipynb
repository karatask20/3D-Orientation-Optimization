{
 "cells": [
  {
   "cell_type": "code",
   "execution_count": 1,
   "id": "ad8dacd4",
   "metadata": {},
   "outputs": [],
   "source": [
    "import numpy as np\n",
    "\n",
    "class Partition:\n",
    "    def __init__(self, a, b, c): # Each vertex expressed as a (x,y,z) tuple \n",
    "        self.v1 = np.array(a)\n",
    "        self.v2 = np.array(b)\n",
    "        self.v3 = np.array(c)\n",
    "        \n",
    "    def center(self):\n",
    "        res = ((self.v1[0] + self.v2[0] + self.v3[0]) / 3, \n",
    "               (self.v1[1] + self.v2[1] + self.v3[1]) / 3, \n",
    "               (self.v1[2] + self.v2[2] + self.v3[2]) / 3)\n",
    "        return (round(res[0], 3), round(res[1], 3), round(res[2], 3))\n",
    "    \n",
    "    def angle(self):\n",
    "        planeV = [0, 0, 1] # Using the horizontal plane as our \"surface\"\n",
    "        normalV = np.cross(self.v2-self.v1, self.v3-self.v1)\n",
    "        angle_rad = np.arccos(np.dot(normalV, planeV) / (np.linalg.norm(normalV) * np.linalg.norm(planeV)))\n",
    "        res = np.degrees(angle_rad) # Converting radian to hexadecimal\n",
    "        return round(res, 3)"
   ]
  },
  {
   "cell_type": "code",
   "execution_count": 2,
   "id": "02de85a6",
   "metadata": {},
   "outputs": [
    {
     "data": {
      "text/plain": [
       "45.0"
      ]
     },
     "execution_count": 2,
     "metadata": {},
     "output_type": "execute_result"
    }
   ],
   "source": [
    "# TEST\n",
    "v1 = (0, 0, 0)\n",
    "v2 = (10, 0, 0)\n",
    "v3 = (0, 10, 10)\n",
    "test = Partition(v1, v2, v3)\n",
    "a = test.angle()\n",
    "a"
   ]
  },
  {
   "cell_type": "markdown",
   "id": "31b559bc",
   "metadata": {},
   "source": [
    "Now we would obtain points on the surface of our object as (x,y,z) tuples and add them to a list, from which we would start building partitions. We create a function that receives as input the aforementioned list and a threshold angle. This last parameter will allow us to determine whether a partition would need support in order to stand still on a surface (e.g. if the inclination of an object is below 45º, it could fall, so it would need external support)."
   ]
  },
  {
   "cell_type": "code",
   "execution_count": 3,
   "id": "417bb583",
   "metadata": {},
   "outputs": [],
   "source": [
    "def supportLevel(incl, points):\n",
    "    total = 0\n",
    "    supp = 0\n",
    "    for i in range(len(points)-2):\n",
    "        t = Partition(points[i], points[i+1], points[i+2])\n",
    "        if t.angle() < incl: \n",
    "            supp += 1\n",
    "        total += 1\n",
    "    return (supp/total)*100"
   ]
  },
  {
   "cell_type": "markdown",
   "id": "77d0fb89",
   "metadata": {},
   "source": [
    "This function would return misleading results, as it reads the points on a FCFS basis, and not based on proximity. This is why we should include as a parameter a list/set of partitions instead of a list of points:"
   ]
  },
  {
   "cell_type": "code",
   "execution_count": 4,
   "id": "4536ac2b",
   "metadata": {},
   "outputs": [],
   "source": [
    "def supportLevel_alt(incl, partitions):\n",
    "    total = 0\n",
    "    supp = 0\n",
    "    for p in partitions:\n",
    "        if p.angle() < incl: \n",
    "            supp += 1\n",
    "        total += 1\n",
    "    return (supp/total)*100"
   ]
  },
  {
   "cell_type": "markdown",
   "id": "4df26ce6",
   "metadata": {},
   "source": [
    "Additionally, we could rescale our problem to work with bigger parts. If we retrieved too many points from a bigger surface, we could just reduce this amount using a recursive function; we would create partitions from our list of points and obtain their centers, in order to work with a shorter list."
   ]
  },
  {
   "cell_type": "code",
   "execution_count": 5,
   "id": "d3ebbf5f",
   "metadata": {},
   "outputs": [],
   "source": [
    "def rescale(points, n):\n",
    "    if len(points) < n:\n",
    "        return points\n",
    "    partitions = []\n",
    "    centers = []\n",
    "    for i in range(len(points)-2):\n",
    "        t = Partition(points[i], points[i+1], points[i+2])\n",
    "        partitions.append(t)\n",
    "    for p in partitions:\n",
    "        c = t.center()\n",
    "        centers.append(c)\n",
    "    return rescale(centers, n)"
   ]
  }
 ],
 "metadata": {
  "kernelspec": {
   "display_name": "Python 3 (ipykernel)",
   "language": "python",
   "name": "python3"
  },
  "language_info": {
   "codemirror_mode": {
    "name": "ipython",
    "version": 3
   },
   "file_extension": ".py",
   "mimetype": "text/x-python",
   "name": "python",
   "nbconvert_exporter": "python",
   "pygments_lexer": "ipython3",
   "version": "3.10.10"
  }
 },
 "nbformat": 4,
 "nbformat_minor": 5
}
